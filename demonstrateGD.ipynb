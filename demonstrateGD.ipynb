{
 "cells": [
  {
   "cell_type": "code",
   "execution_count": null,
   "metadata": {},
   "outputs": [],
   "source": [
    "---\n",
    "title: \"Plotting with Python\"\n",
    "format: html\n",
    "---"
   ]
  },
  {
   "cell_type": "markdown",
   "metadata": {},
   "source": [
    "# Introduction:\n",
    "## Python: \n",
    "Python is a computer programming language often used to build websites and software, automate tasks, and conduct data analysis\n",
    "\n",
    "## How to run a python script?\n",
    "1. Intercative sessions: command line or terminal\n",
    "2. When developing larger and more complex applications, it is recommended that you use an integrated development environment (IDE) or an advanced text editor. Advanced text editors like Sublime Text and Visual Studio Code also allow you to run your scripts. \n",
    "<br>\n",
    "Spyder: Spyder is a free and open source scientific environment written in Python, for Python, and designed by and for scientists, engineers and data analysts"
   ]
  },
  {
   "cell_type": "code",
   "execution_count": null,
   "metadata": {},
   "outputs": [],
   "source": []
  },
  {
   "cell_type": "markdown",
   "metadata": {},
   "source": [
    "# Now let's plot!:\n",
    "\n",
    "Step 1: Intsall Python ( Preferebly version 3.9 or 3.10) and pip\n",
    "<br>\n",
    "Step 2: \n",
    "Intsall following modules: Use \"pip install somepackage\"\n",
    "<br>\n",
    "Required modules: matplotlib, pandas, openpyxl, xlrd.\n",
    "<br>\n",
    "We will be importing matplotlib and pandas modules in which the matplotlib module \n",
    "is used for plotting and pandas is used to handle the excel file datapoints.\n",
    "\n",
    "Possible errors:\n",
    "<br>\n",
    "In Spyder or VSCode: Missing optional dependency 'openpyxl'.  Use pip or conda to install openpyxl: install required package using erminal or command line. After installation, if still not recognized by spyder that is bc spyder is using different python environement\n",
    "than the one in your global environement. To change the envirenmoent to the one your system is running on,  Go to tools<<preferences<<python interpretor<< your local dir for python.exe : Exp: Users/Sarina/Appdata/Program/python3.10/python.exe\n",
    "<br>\n",
    "\n",
    "\n",
    "\n",
    "\n",
    "\n",
    "\n",
    " \n"
   ]
  },
  {
   "cell_type": "markdown",
   "metadata": {},
   "source": [
    "## Process Data (Import from excel):\n",
    "Python has different data structures such as list, dictionaris and ...\n",
    "<br>\n",
    "Dataframe: 2 dimentional data structure( think of it as rows and columns) which can include data as list od dictionary or ....\n",
    "<br>\n",
    "List=[1,2,3] or =['a','b']\n",
    "<br>\n",
    "dict= {'year': ['1998','1999'] , 'name': ['Sarina','Ashely']}\n",
    "<br>\n",
    ".\n",
    "<br>\n",
    ".\n",
    "<br>\n",
    ".\n"
   ]
  },
  {
   "cell_type": "code",
   "execution_count": 127,
   "metadata": {},
   "outputs": [
    {
     "name": "stdout",
     "output_type": "stream",
     "text": [
      "{'year': ['1998', '1999'], 'name': ['Sarina', 'Ashely']}\n"
     ]
    }
   ],
   "source": [
    "\n",
    "dict= {'year': ['1998','1999'] , 'name': ['Sarina','Ashely']}\n",
    "print(dict)"
   ]
  },
  {
   "cell_type": "code",
   "execution_count": 126,
   "metadata": {},
   "outputs": [
    {
     "name": "stdout",
     "output_type": "stream",
     "text": [
      "a    21\n",
      "b    26\n",
      "c    29\n",
      "d    32\n",
      "e    35\n",
      "f    38\n",
      "dtype: int64\n",
      "a    21\n",
      "b    26\n",
      "c    29\n",
      "dtype: int64\n"
     ]
    }
   ],
   "source": [
    "import matplotlib.pyplot as plt\n",
    "import pandas as pd\n",
    "import numpy as np\n",
    "plt.rc('font',family='Times New Roman') \n",
    "# Install the PyDrive wrapper & import libraries.\n",
    "# This only needs to be done once per notebook.\n",
    "!pip install -U -q PyDrive\n",
    "from pydrive.auth import GoogleAuth\n",
    "from pydrive.drive import GoogleDrive\n",
    "from google.colab import auth\n",
    "from oauth2client.client import GoogleCredentials\n",
    "\n",
    "auth.authenticate_user()\n",
    "gauth = GoogleAuth()\n",
    "gauth.credentials = GoogleCredentials.get_application_default()\n",
    "drive = GoogleDrive(gauth)\n",
    "\n",
    "file_id = '19iXoH_0q2RwJi6Hbr0feq9f6j1gbEQIm'\n",
    "downloaded = drive.CreateFile({'id': file_id})\n",
    "\n",
    "# Download the file to a local disk as 'exported.xlsx'.\n",
    "downloaded.GetContentFile('test.xlsx')\n",
    "\n",
    "# Here it is --\n",
    "!ls -lha test.xlsx\n",
    "\n",
    "# Now, we can use pandas read_excel after installing the excel importer.\n",
    "!pip install -q xlrd\n",
    "\n",
    "import pandas as pd\n",
    "\n",
    "##read data from excel\n",
    "var = pd.read_excel('test.xlsx')\n",
    "var.head()\n",
    "\n",
    "## define x and y columns\n",
    "x = var['X']\n",
    "y = var['Y']\n",
    "x.index=['a','b','c','d','e','f']\n",
    "y.index=['a','b','c','d','e','f']\n",
    "\n",
    "\n",
    "#### note that series index must be same\n",
    "print(2*x+y)\n",
    "print(2*x.iloc[0:3]+y.iloc[0:3])\n",
    "\n",
    "\n",
    "\n",
    "\n",
    "##data={'year': ['1998','1999'],'name': ['Sarina','Ashely']}\n",
    "##DataPlus=pd.DataFrame(data)\n",
    "##print(DataPlus)\n"
   ]
  },
  {
   "cell_type": "markdown",
   "metadata": {},
   "source": [
    "\n",
    "![Exp](demonstrate.png)\n"
   ]
  },
  {
   "cell_type": "code",
   "execution_count": 71,
   "metadata": {},
   "outputs": [
    {
     "name": "stdout",
     "output_type": "stream",
     "text": [
      "<class 'pandas.core.frame.DataFrame'>\n",
      "X:  [10, 12, 13, 14, 15, 16]\n",
      "Y:  [1, 2, 3, 4, 5, 6]\n"
     ]
    },
    {
     "data": {
      "image/png": "[encoded data removed]",
      "text/plain": [
       "<Figure size 576x216 with 1 Axes>"
      ]
     },
     "metadata": {
      "needs_background": "light"
     },
     "output_type": "display_data"
    }
   ],
   "source": [
    "import matplotlib.pyplot as plt\n",
    "import pandas as pd\n",
    "import numpy as np\n",
    "plt.rc('font',family='Times New Roman') \n",
    "# Install the PyDrive wrapper & import libraries.\n",
    "# This only needs to be done once per notebook.\n",
    "!pip install -U -q PyDrive\n",
    "from pydrive.auth import GoogleAuth\n",
    "from pydrive.drive import GoogleDrive\n",
    "from google.colab import auth\n",
    "from oauth2client.client import GoogleCredentials\n",
    "\n",
    "auth.authenticate_user()\n",
    "gauth = GoogleAuth()\n",
    "gauth.credentials = GoogleCredentials.get_application_default()\n",
    "drive = GoogleDrive(gauth)\n",
    "\n",
    "file_id = '19iXoH_0q2RwJi6Hbr0feq9f6j1gbEQIm'\n",
    "downloaded = drive.CreateFile({'id': file_id})\n",
    "\n",
    "# Download the file to a local disk as 'exported.xlsx'.\n",
    "downloaded.GetContentFile('test.xlsx')\n",
    "\n",
    "# Here it is --\n",
    "!ls -lha test.xlsx\n",
    "\n",
    "# Now, we can use pandas read_excel after installing the excel importer.\n",
    "!pip install -q xlrd\n",
    "\n",
    "import pandas as pd\n",
    "\n",
    "##read data from excel\n",
    "var = pd.read_excel('test.xlsx')\n",
    "var.head()\n",
    "print(type(var))\n",
    "## define x and y columns\n",
    "x = list(var['X'])\n",
    "y = list(var['Y'])\n",
    "\n",
    "f = plt.figure()\n",
    "\n",
    "##plot\n",
    "plt.plot(x,y, label = 'Exmple')\n",
    "## Legend properties\n",
    "\n",
    "plt.rcParams['legend.fontsize'] = 9.5\n",
    "plt.legend(loc='upper left',ncol=1)\n",
    "\n",
    "## label properties\n",
    "plt.yticks(np.linspace(0, 7, num=7, endpoint=False)   )\n",
    "plt.xticks(np.linspace(9, 17, num=16, endpoint=False)   )\n",
    "plt.xlabel('X', fontsize = 12)\n",
    "plt.ylabel('Y', fontsize = 12)\n",
    "print('X: ',x)\n",
    "print('Y: ',y)\n",
    "\n",
    "\n",
    "f.set_figwidth(8)\n",
    "f.set_figheight(3)\n",
    "\n",
    "plt.savefig('Test.pdf')\n",
    "plt.savefig('Test.png')\n",
    "plt.show()\n",
    "\n"
   ]
  },
  {
   "cell_type": "markdown",
   "metadata": {},
   "source": [
    "## Subplot:\n",
    "Function subplot is used to plot different plots in one figure:\n",
    "<br>\n",
    "subplot(nrows, ncols, index, **kwargs)\n",
    "<br>\n",
    "subplot(pos, **kwargs)\n",
    "<br>\n",
    "subplot(**kwargs)\n",
    "<br>\n",
    "subplot(ax)\n",
    "\n",
    "\n",
    "### kwargs:keyword defined objects: https://matplotlib.org/stable/api/_as_gen/matplotlib.pyplot.plot.html"
   ]
  },
  {
   "cell_type": "code",
   "execution_count": 69,
   "metadata": {},
   "outputs": [
    {
     "name": "stderr",
     "output_type": "stream",
     "text": [
      "No artists with labels found to put in legend.  Note that artists whose label start with an underscore are ignored when legend() is called with no argument.\n"
     ]
    },
    {
     "data": {
      "image/png": "[encoded data removed]",
      "text/plain": [
       "<Figure size 720x216 with 2 Axes>"
      ]
     },
     "metadata": {
      "needs_background": "light"
     },
     "output_type": "display_data"
    }
   ],
   "source": [
    "import matplotlib.pyplot as plt\n",
    "import pandas as pd\n",
    "import numpy as np\n",
    "plt.rc('font',family='Times New Roman') \n",
    "# Install the PyDrive wrapper & import libraries.\n",
    "# This only needs to be done once per notebook.\n",
    "!pip install -U -q PyDrive\n",
    "from pydrive.auth import GoogleAuth\n",
    "from pydrive.drive import GoogleDrive\n",
    "from google.colab import auth\n",
    "from oauth2client.client import GoogleCredentials\n",
    "\n",
    "auth.authenticate_user()\n",
    "gauth = GoogleAuth()\n",
    "gauth.credentials = GoogleCredentials.get_application_default()\n",
    "drive = GoogleDrive(gauth)\n",
    "\n",
    "file_id = '19iXoH_0q2RwJi6Hbr0feq9f6j1gbEQIm'\n",
    "downloaded = drive.CreateFile({'id': file_id})\n",
    "\n",
    "# Download the file to a local disk as 'exported.xlsx'.\n",
    "downloaded.GetContentFile('test.xlsx')\n",
    "\n",
    "# Here it is --\n",
    "!ls -lha test.xlsx\n",
    "\n",
    "# Now, we can use pandas read_excel after installing the excel importer.\n",
    "!pip install -q xlrd\n",
    "\n",
    "import pandas as pd\n",
    "\n",
    "##read data from excel\n",
    "var = pd.read_excel('test.xlsx')\n",
    "var.head()\n",
    "## define x and y columns\n",
    "x = list(var['X'])\n",
    "y = list(var['Y'])\n",
    "x2 = np.array([0, 1, 2, 3])\n",
    "y2 = np.array([3, 8, 1, 10])\n",
    "\n",
    "\n",
    "f = plt.figure()\n",
    "sub1=plt.subplot(1,2,1)\n",
    "sub2=plt.subplot(1,2,2)\n",
    "\n",
    "##plot1\n",
    "sub1.plot(x,y, color='orange',label='plot')\n",
    "plt.yticks(np.linspace(0, 7, num=7, endpoint=False))   \n",
    "plt.xticks(np.linspace(9, 17, num=16, endpoint=False))\n",
    "sub1.set_xlabel('X', fontsize = 12)\n",
    "sub1.set_ylabel('Y', fontsize = 12)\n",
    "\n",
    "sub1.set_title('subplot1')\n",
    "\n",
    "## plot2\n",
    "  \n",
    "sub2.scatter(x2,y2, color='green',)\n",
    "sub2.set_xticks(np.linspace(0, 6, num=6, endpoint=True))   \n",
    "sub2.set_yticks(np.linspace(0, 10, num=10, endpoint=True)) \n",
    "sub2.set_title('subplot1')\n",
    "sub2.set_xlabel('X', fontsize = 12)\n",
    "sub2.set_ylabel('Y', fontsize = 12)\n",
    "\n",
    "## Legend properties\n",
    "\n",
    "plt.rcParams['legend.fontsize'] = 20\n",
    "plt.legend(loc='upper left',ncol=1)\n",
    "\n",
    "\n",
    "f.set_figwidth(10)\n",
    "f.set_figheight(3)\n",
    "\n",
    "plt.savefig('Test.pdf')\n",
    "plt.savefig('Test.png')\n",
    "plt.show()\n",
    "\n"
   ]
  },
  {
   "cell_type": "code",
   "execution_count": 65,
   "metadata": {},
   "outputs": [
    {
     "name": "stderr",
     "output_type": "stream",
     "text": [
      "No artists with labels found to put in legend.  Note that artists whose label start with an underscore are ignored when legend() is called with no argument.\n"
     ]
    },
    {
     "name": "stdout",
     "output_type": "stream",
     "text": [
      "[5.5624912426826505, 5.286030409185869, 7.318885817465446, 5.704457683860931, 3.22333325618109]\n",
      "[5.970851812063192, 3.8301304935952696, 6.510569990148625, 4.475975581920961, 4.907021271315056]\n",
      "[0.5 1.5 2.5 3.5 4.5 5.5 6.5 7.5]\n",
      "[5.07400923 6.89822859 4.5550121  3.07413153 4.63825347 3.86885137\n",
      " 6.84666286 2.89062746]\n",
      "X:  [10, 12, 13, 14, 15, 16]\n",
      "Y:  [1, 2, 3, 4, 5, 6]\n"
     ]
    },
    {
     "data": {
      "image/png": "[encoded data removed]",
      "text/plain": [
       "<Figure size 1440x360 with 3 Axes>"
      ]
     },
     "metadata": {
      "needs_background": "light"
     },
     "output_type": "display_data"
    }
   ],
   "source": [
    "import matplotlib.pyplot as plt\n",
    "import pandas as pd\n",
    "import numpy as np\n",
    "plt.rc('font',family='Times New Roman') \n",
    "# Install the PyDrive wrapper & import libraries.\n",
    "# This only needs to be done once per notebook.\n",
    "!pip install -U -q PyDrive\n",
    "from pydrive.auth import GoogleAuth\n",
    "from pydrive.drive import GoogleDrive\n",
    "from google.colab import auth\n",
    "from oauth2client.client import GoogleCredentials\n",
    "\n",
    "auth.authenticate_user()\n",
    "gauth = GoogleAuth()\n",
    "gauth.credentials = GoogleCredentials.get_application_default()\n",
    "drive = GoogleDrive(gauth)\n",
    "\n",
    "file_id = '19iXoH_0q2RwJi6Hbr0feq9f6j1gbEQIm'\n",
    "downloaded = drive.CreateFile({'id': file_id})\n",
    "\n",
    "# Download the file to a local disk as 'exported.xlsx'.\n",
    "downloaded.GetContentFile('test.xlsx')\n",
    "\n",
    "# Here it is --\n",
    "!ls -lha test.xlsx\n",
    "\n",
    "# Now, we can use pandas read_excel after installing the excel importer.\n",
    "!pip install -q xlrd\n",
    "\n",
    "import pandas as pd\n",
    "\n",
    "##read data from excel\n",
    "var = pd.read_excel('test.xlsx')\n",
    "var.head()\n",
    "i=0\n",
    "## define x and y columns\n",
    "##plot data\n",
    "\n",
    "x = list(var['X'])\n",
    "y = list(var['Y'])\n",
    "\n",
    "## scatter data\n",
    "x2=[]\n",
    "y2=[]\n",
    "for i in range(5): x2.append(float(4 + np.random.normal(0, 2, 1)))\n",
    "for i in range(5): y2.append(float(4 + np.random.normal(0, 2, 1)))\n",
    "print(x2)\n",
    "print(y2)\n",
    "## bar data:\n",
    "\n",
    "x3 = 0.5+np.arange(0,8,1)\n",
    "\n",
    "y3 = np.random.uniform(2, 7, len(x3))\n",
    "\n",
    "\n",
    "print(x3)\n",
    "print(y3)\n",
    "\n",
    "\n",
    "f = plt.figure()\n",
    "sub1=plt.subplot(1,3,1)\n",
    "sub2=plt.subplot(1,3,2)\n",
    "sub3=plt.subplot(1,3,3)\n",
    "\n",
    "##plot1\n",
    "\n",
    "sub1.plot(x,y, color='orange',label='plot')\n",
    "plt.yticks(np.linspace(0, 7, num=7, endpoint=False))   \n",
    "plt.xticks(np.linspace(9, 17, num=16, endpoint=False))\n",
    "sub1.set_xlabel('X', fontsize = 12)\n",
    "sub1.set_ylabel('Y', fontsize = 12)\n",
    "\n",
    "sub1.set_title('plot')\n",
    "\n",
    "## plot2\n",
    "  \n",
    "sub2.scatter(x2,y2, color='green',)\n",
    "sub2.set_xticks(np.linspace(0, 10, num=10, endpoint=True))   \n",
    "sub2.set_yticks(np.linspace(0, 5, num=5, endpoint=True)) \n",
    "sub2.set_title('scatter')\n",
    "sub2.set_xlabel('X', fontsize = 12)\n",
    "sub2.set_ylabel('Y', fontsize = 12)\n",
    "\n",
    "## plot3\n",
    "\n",
    "sub3.bar(x3,y3, color='black')\n",
    "sub3.set_yticks(np.linspace(0, 10, num=10, endpoint=False))   \n",
    "sub3.set_xticks(np.linspace(0, 10, num=10, endpoint=False))\n",
    "sub3.set_title('bar')\n",
    "sub3.set_xlabel('X', fontsize = 12)\n",
    "sub3.set_ylabel('Y', fontsize = 12)\n",
    "\n",
    "## Legend properties\n",
    "\n",
    "plt.rcParams['legend.fontsize'] = 20\n",
    "plt.legend(loc='upper left',ncol=1)\n",
    "\n",
    "## label properties\n",
    "plt.xlabel('X', fontsize = 12)\n",
    "plt.ylabel('Y', fontsize = 12)\n",
    "print('X: ',x)\n",
    "print('Y: ',y)\n",
    "\n",
    "\n",
    "f.set_figwidth(20)\n",
    "f.set_figheight(5)\n",
    "\n",
    "plt.savefig('Test.pdf')\n",
    "plt.savefig('Test.png')\n",
    "plt.show()\n",
    "\n"
   ]
  }
 ],
 "metadata": {
  "interpreter": {
   "hash": "af46802720f2018ea82081c6d1b6205b264d9441277b56c7575c42d072bf9ed7"
  },
  "kernelspec": {
   "display_name": "Python 3.10.2 64-bit",
   "language": "python",
   "name": "python3"
  },
  "language_info": {
   "codemirror_mode": {
    "name": "ipython",
    "version": 3
   },
   "file_extension": ".py",
   "mimetype": "text/x-python",
   "name": "python",
   "nbconvert_exporter": "python",
   "pygments_lexer": "ipython3",
   "version": "3.10.5"
  },
  "orig_nbformat": 4
 },
 "nbformat": 4,
 "nbformat_minor": 2
}
